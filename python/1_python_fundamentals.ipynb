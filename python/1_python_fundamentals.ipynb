{
 "cells": [
  {
   "cell_type": "markdown",
   "id": "940dd20a",
   "metadata": {},
   "source": [
    "## 1. Python Output"
   ]
  },
  {
   "cell_type": "code",
   "execution_count": null,
   "id": "0307eae8",
   "metadata": {},
   "outputs": [
    {
     "name": "stdout",
     "output_type": "stream",
     "text": [
      "Hello World!\n"
     ]
    }
   ],
   "source": [
    "## Python is a case sensitive language\n",
    "print(\"Hello World!\")"
   ]
  },
  {
   "cell_type": "code",
   "execution_count": 2,
   "id": "32a335c6",
   "metadata": {},
   "outputs": [
    {
     "name": "stdout",
     "output_type": "stream",
     "text": [
      "Hello 1 2.3 True\n"
     ]
    }
   ],
   "source": [
    "print(\"Hello\", 1, 2.3, True)"
   ]
  },
  {
   "cell_type": "code",
   "execution_count": 5,
   "id": "d8a301aa",
   "metadata": {},
   "outputs": [
    {
     "name": "stdout",
     "output_type": "stream",
     "text": [
      "Hello , World\n"
     ]
    }
   ],
   "source": [
    "## Using separator\n",
    "print(\"Hello\", \"World\", sep=\" , \")"
   ]
  },
  {
   "cell_type": "code",
   "execution_count": null,
   "id": "6f3f75da",
   "metadata": {},
   "outputs": [
    {
     "name": "stdout",
     "output_type": "stream",
     "text": [
      "Hello/World\n"
     ]
    }
   ],
   "source": [
    "## Change end default \\n (new line) behavior\n",
    "print(\"Hello\", end=\"/\")\n",
    "print(\"World\")"
   ]
  },
  {
   "cell_type": "markdown",
   "id": "e9ddc275",
   "metadata": {},
   "source": [
    "## 2. Data Types"
   ]
  },
  {
   "cell_type": "code",
   "execution_count": 9,
   "id": "60dfdd76",
   "metadata": {},
   "outputs": [
    {
     "name": "stdout",
     "output_type": "stream",
     "text": [
      "10\n",
      "1e+308\n"
     ]
    }
   ],
   "source": [
    "## Integer\n",
    "print(10)\n",
    "## Python supports 1*10^308 numbers\n",
    "print(1e308)"
   ]
  },
  {
   "cell_type": "code",
   "execution_count": 10,
   "id": "829a829c",
   "metadata": {},
   "outputs": [
    {
     "name": "stdout",
     "output_type": "stream",
     "text": [
      "10.5\n",
      "inf\n"
     ]
    }
   ],
   "source": [
    "## Decimal/Float\n",
    "print(10.5)\n",
    "print(1.7e309)"
   ]
  },
  {
   "cell_type": "code",
   "execution_count": 11,
   "id": "baee7d18",
   "metadata": {},
   "outputs": [
    {
     "name": "stdout",
     "output_type": "stream",
     "text": [
      "True\n",
      "False\n"
     ]
    }
   ],
   "source": [
    "## Boolean\n",
    "print(True)\n",
    "print(False)"
   ]
  },
  {
   "cell_type": "code",
   "execution_count": 12,
   "id": "eb900c3a",
   "metadata": {},
   "outputs": [
    {
     "name": "stdout",
     "output_type": "stream",
     "text": [
      "Hello World!\n"
     ]
    }
   ],
   "source": [
    "## Text/String\n",
    "print(\"Hello World!\")"
   ]
  },
  {
   "cell_type": "code",
   "execution_count": 13,
   "id": "0f961f3c",
   "metadata": {},
   "outputs": [
    {
     "name": "stdout",
     "output_type": "stream",
     "text": [
      "(2+6j)\n"
     ]
    }
   ],
   "source": [
    "## Complex\n",
    "print(2+6j)"
   ]
  },
  {
   "cell_type": "code",
   "execution_count": 15,
   "id": "234ce1f9",
   "metadata": {},
   "outputs": [
    {
     "name": "stdout",
     "output_type": "stream",
     "text": [
      "[1, 2, 3, 4]\n"
     ]
    }
   ],
   "source": [
    "## List (Array)\n",
    "print([1,2,3,4])"
   ]
  },
  {
   "cell_type": "code",
   "execution_count": 16,
   "id": "d49b53c5",
   "metadata": {},
   "outputs": [
    {
     "name": "stdout",
     "output_type": "stream",
     "text": [
      "(1, 2, 3, 4)\n"
     ]
    }
   ],
   "source": [
    "## Tuple\n",
    "print((1,2,3,4))"
   ]
  },
  {
   "cell_type": "code",
   "execution_count": 17,
   "id": "571087ce",
   "metadata": {},
   "outputs": [
    {
     "name": "stdout",
     "output_type": "stream",
     "text": [
      "{1, 2, 3, 4, 5}\n"
     ]
    }
   ],
   "source": [
    "## Sets\n",
    "print({1,2,3,4,4,5,})"
   ]
  },
  {
   "cell_type": "code",
   "execution_count": 18,
   "id": "92f675cd",
   "metadata": {},
   "outputs": [
    {
     "name": "stdout",
     "output_type": "stream",
     "text": [
      "{'name': 'Tanjim', 'age': 28}\n"
     ]
    }
   ],
   "source": [
    "## Dictionary\n",
    "print({\"name\": \"Tanjim\", \"age\": 28})"
   ]
  },
  {
   "cell_type": "code",
   "execution_count": 19,
   "id": "24249918",
   "metadata": {},
   "outputs": [
    {
     "data": {
      "text/plain": [
       "int"
      ]
     },
     "execution_count": 19,
     "metadata": {},
     "output_type": "execute_result"
    }
   ],
   "source": [
    "## type\n",
    "type(6)"
   ]
  },
  {
   "cell_type": "markdown",
   "id": "c9a87219",
   "metadata": {},
   "source": [
    "## 3. Variables\n",
    "- Static Vs Dynamic Typing\n",
    "- Static Vs Dynamic Binding\n",
    "- Stylish declaration"
   ]
  },
  {
   "cell_type": "code",
   "execution_count": null,
   "id": "8f6716f3",
   "metadata": {},
   "outputs": [
    {
     "name": "stdout",
     "output_type": "stream",
     "text": [
      "Tanjim\n"
     ]
    }
   ],
   "source": [
    "## Dynamic Typing\n",
    "a = 10\n",
    "\n",
    "## Static Typing and Binding\n",
    "## int a = 10"
   ]
  },
  {
   "cell_type": "code",
   "execution_count": 22,
   "id": "8a159a73",
   "metadata": {},
   "outputs": [
    {
     "name": "stdout",
     "output_type": "stream",
     "text": [
      "10 20 30\n"
     ]
    }
   ],
   "source": [
    "## Stylish declaration\n",
    "a, b , c = 10, 20, 30\n",
    "print(a, b, c)"
   ]
  },
  {
   "cell_type": "code",
   "execution_count": 24,
   "id": "33954c1e",
   "metadata": {},
   "outputs": [
    {
     "name": "stdout",
     "output_type": "stream",
     "text": [
      "10 10 10\n"
     ]
    }
   ],
   "source": [
    "a=b=c= 10\n",
    "print(a, b, c)"
   ]
  },
  {
   "cell_type": "markdown",
   "id": "f4fbb279",
   "metadata": {},
   "source": [
    "## Comments"
   ]
  },
  {
   "cell_type": "code",
   "execution_count": null,
   "id": "6bf839c9",
   "metadata": {},
   "outputs": [],
   "source": [
    "## Single Line Comment\n",
    "'''\n",
    "Multi \n",
    "Lines\n",
    "Comments\n",
    "'''"
   ]
  },
  {
   "cell_type": "markdown",
   "id": "bfaef846",
   "metadata": {},
   "source": [
    "## 4. Keywords & Identifiers"
   ]
  },
  {
   "cell_type": "code",
   "execution_count": null,
   "id": "a7bbf0f8",
   "metadata": {},
   "outputs": [],
   "source": [
    "## Keywords\n",
    "## Python has 32 keywords that can't use as a variable\n",
    "'''\n",
    "if, else, def, etc...\n",
    "'''"
   ]
  },
  {
   "cell_type": "code",
   "execution_count": null,
   "id": "0f7d3846",
   "metadata": {},
   "outputs": [],
   "source": [
    "## Identifiers (variable, class, function name)\n",
    "'''\n",
    "Here are the rules for identifiers in Python in simple bullet points:\n",
    "1. Can contain letters (a–z, A–Z), digits (0–9), and underscore (_).\n",
    "2. Cannot start with a digit.\n",
    "3. Case-sensitive (name, Name, and NAME are different).\n",
    "4. Cannot use special characters like @, $, %, -, etc.\n",
    "5. Cannot use Python keywords (if, for, class, def, etc.).\n",
    "6. Can be of unlimited length (but should be meaningful).\n",
    "7. Identifiers starting with underscore (_var, __var, __init__) often have special meanings.\n",
    "'''"
   ]
  },
  {
   "cell_type": "markdown",
   "id": "ff7e5358",
   "metadata": {},
   "source": [
    "## 5. User Input"
   ]
  },
  {
   "cell_type": "code",
   "execution_count": null,
   "id": "47e2985b",
   "metadata": {},
   "outputs": [],
   "source": [
    "name = input(\"Enter Your Name: \")\n",
    "print(name)"
   ]
  },
  {
   "cell_type": "markdown",
   "id": "1337dc33",
   "metadata": {},
   "source": [
    "## 6. Type Conversion"
   ]
  },
  {
   "cell_type": "code",
   "execution_count": 27,
   "id": "b7a3a15d",
   "metadata": {},
   "outputs": [
    {
     "name": "stdout",
     "output_type": "stream",
     "text": [
      "15.5\n",
      "<class 'int'>\n"
     ]
    }
   ],
   "source": [
    "## String is a universal datatype\n",
    "## Implicit Vs Explicit\n",
    "\n",
    "## Implicit\n",
    "a = 10\n",
    "b = 5.5\n",
    "print(a + b) ## Here a is an integer and b is a float number. After summation the result type implicitly converted. \n",
    "\n",
    "## Explicit\n",
    "a = int(\"4\")\n",
    "print(type(a))"
   ]
  },
  {
   "cell_type": "markdown",
   "id": "cd19deb7",
   "metadata": {},
   "source": [
    "## 7. Literals"
   ]
  },
  {
   "cell_type": "code",
   "execution_count": null,
   "id": "e5cca063",
   "metadata": {},
   "outputs": [],
   "source": [
    "a = 10\n",
    "'''\n",
    "Here, a is variable and variable name, = is a operator and 10 is the literal\n",
    "'''"
   ]
  }
 ],
 "metadata": {
  "kernelspec": {
   "display_name": "env",
   "language": "python",
   "name": "python3"
  },
  "language_info": {
   "codemirror_mode": {
    "name": "ipython",
    "version": 3
   },
   "file_extension": ".py",
   "mimetype": "text/x-python",
   "name": "python",
   "nbconvert_exporter": "python",
   "pygments_lexer": "ipython3",
   "version": "3.13.7"
  }
 },
 "nbformat": 4,
 "nbformat_minor": 5
}
