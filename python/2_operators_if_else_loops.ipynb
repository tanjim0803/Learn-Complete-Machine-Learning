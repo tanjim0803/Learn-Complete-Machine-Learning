{
 "cells": [
  {
   "cell_type": "markdown",
   "id": "3ef898b1",
   "metadata": {},
   "source": [
    "## Operators in Python\n",
    "- Arithmetic Operators\n",
    "- Relational Operators\n",
    "- Logical Operators\n",
    "- Bitwise Operators\n",
    "- Assignment Operators\n",
    "- Membership Operators"
   ]
  },
  {
   "cell_type": "code",
   "execution_count": 1,
   "id": "8852640e",
   "metadata": {},
   "outputs": [
    {
     "name": "stdout",
     "output_type": "stream",
     "text": [
      "11\n",
      "1\n",
      "30\n",
      "7776\n",
      "3.0\n",
      "2\n",
      "1\n"
     ]
    }
   ],
   "source": [
    "## Arithmetic Operators\n",
    "print(5+6) ## addition\n",
    "\n",
    "print(6-5) ## subtraction\n",
    "\n",
    "print(6*5) ## multiplication\n",
    "\n",
    "print(6**5) ## power of\n",
    "\n",
    "print(6/2) ## division\n",
    "\n",
    "print(5//2) ## integer division\n",
    "\n",
    "print(5%2) ## modulus"
   ]
  },
  {
   "cell_type": "code",
   "execution_count": null,
   "id": "4f6f707c",
   "metadata": {},
   "outputs": [
    {
     "name": "stdout",
     "output_type": "stream",
     "text": [
      "False\n",
      "True\n",
      "False\n",
      "True\n",
      "False\n",
      "True\n"
     ]
    }
   ],
   "source": [
    "## Relational Operators (always return boolean value)\n",
    "\n",
    "print(4>5) ## greater than\n",
    "\n",
    "print(4<5) ## less than\n",
    "\n",
    "print(4>=5) ## greater than equal\n",
    "\n",
    "print(4<=5) ## less than equal\n",
    "\n",
    "print(4==5) ## equal\n",
    "\n",
    "print(4!=5) ## not equal"
   ]
  },
  {
   "cell_type": "code",
   "execution_count": null,
   "id": "0d33d459",
   "metadata": {},
   "outputs": [
    {
     "name": "stdout",
     "output_type": "stream",
     "text": [
      "0\n",
      "1\n",
      "True\n"
     ]
    }
   ],
   "source": [
    "## Logical Operators (always return boolean value)\n",
    "\n",
    "print(1 and 0) ## if both logic true than return true \n",
    "print(1 or 0) ## if both logic false than return false\n",
    "print(not 0) ## return reverse value"
   ]
  },
  {
   "cell_type": "code",
   "execution_count": 4,
   "id": "616123d4",
   "metadata": {},
   "outputs": [
    {
     "name": "stdout",
     "output_type": "stream",
     "text": [
      "2\n",
      "3\n",
      "1\n",
      "-4\n",
      "1\n",
      "20\n"
     ]
    }
   ],
   "source": [
    "# Bitwise Operators\n",
    "\n",
    "# bitwise and\n",
    "print(2 & 3)\n",
    "\n",
    "# bitwise or\n",
    "print(2 | 3)\n",
    "\n",
    "# bitwise xor\n",
    "print(2 ^ 3)\n",
    "\n",
    "print(~3)\n",
    "\n",
    "print(4 >> 2)\n",
    "\n",
    "print(5 << 2)"
   ]
  },
  {
   "cell_type": "code",
   "execution_count": 5,
   "id": "ee616413",
   "metadata": {},
   "outputs": [
    {
     "name": "stdout",
     "output_type": "stream",
     "text": [
      "0\n"
     ]
    }
   ],
   "source": [
    "# Assignment Operators\n",
    "\n",
    "# = \n",
    "# a = 2\n",
    "\n",
    "a = 2\n",
    "\n",
    "# a = a % 2\n",
    "a %= 2\n",
    "\n",
    "print(a)"
   ]
  },
  {
   "cell_type": "code",
   "execution_count": 6,
   "id": "d425c683",
   "metadata": {},
   "outputs": [
    {
     "name": "stdout",
     "output_type": "stream",
     "text": [
      "False\n",
      "False\n"
     ]
    }
   ],
   "source": [
    "# Membership Operators\n",
    "\n",
    "# in/not in\n",
    "\n",
    "print('D' not in 'Delhi')\n",
    "\n",
    "print(1 in [2,3,4,5,6])"
   ]
  },
  {
   "cell_type": "code",
   "execution_count": null,
   "id": "0075d3ae",
   "metadata": {},
   "outputs": [],
   "source": [
    "# Program - Find the sum of a 3 digit number entered by the user\n",
    "number = int(input('Enter a 3 digit number'))\n",
    "\n",
    "# 345%10 -> 5\n",
    "a = number%10\n",
    "\n",
    "number = number//10\n",
    "\n",
    "# 34%10 -> 4\n",
    "b = number % 10\n",
    "\n",
    "number = number//10\n",
    "# 3 % 10 -> 3\n",
    "c = number % 10\n",
    "\n",
    "print(a + b + c)"
   ]
  },
  {
   "cell_type": "markdown",
   "id": "1ae28445",
   "metadata": {},
   "source": [
    "# If-else in Python"
   ]
  },
  {
   "cell_type": "code",
   "execution_count": null,
   "id": "632c39f0",
   "metadata": {},
   "outputs": [],
   "source": [
    "# login program and indentation\n",
    "# email -> nitish.campusx@gmail.com\n",
    "# password -> 1234\n",
    "\n",
    "email = input('Enter email')\n",
    "password = input('Enter password')\n",
    "\n",
    "if email == 'tanjim@gmail.com' and password == '1234':\n",
    "  print('Welcome')\n",
    "elif email == 'tanjim@gmail.com' and password != '1234':\n",
    "  # tell the user\n",
    "  print('Incorrect password')\n",
    "  password = input('Enter password again')\n",
    "  if password == '1234':\n",
    "    print('Welcome, finally!')\n",
    "  else:\n",
    "    print(\"Your'e not in this database!\")\n",
    "else:\n",
    "  print('Not correct')"
   ]
  },
  {
   "cell_type": "markdown",
   "id": "12222543",
   "metadata": {},
   "source": [
    "# Modules in Python\n",
    "\n",
    "- math\n",
    "- keywords\n",
    "- random\n",
    "- datetime"
   ]
  },
  {
   "cell_type": "code",
   "execution_count": 7,
   "id": "d0c40d4d",
   "metadata": {},
   "outputs": [
    {
     "data": {
      "text/plain": [
       "3"
      ]
     },
     "execution_count": 7,
     "metadata": {},
     "output_type": "execute_result"
    }
   ],
   "source": [
    "# math\n",
    "import math\n",
    "\n",
    "math.ceil(2.3)"
   ]
  },
  {
   "cell_type": "code",
   "execution_count": 9,
   "id": "6d0c092d",
   "metadata": {},
   "outputs": [
    {
     "name": "stdout",
     "output_type": "stream",
     "text": [
      "['False', 'None', 'True', 'and', 'as', 'assert', 'async', 'await', 'break', 'class', 'continue', 'def', 'del', 'elif', 'else', 'except', 'finally', 'for', 'from', 'global', 'if', 'import', 'in', 'is', 'lambda', 'nonlocal', 'not', 'or', 'pass', 'raise', 'return', 'try', 'while', 'with', 'yield']\n"
     ]
    }
   ],
   "source": [
    "# keyword\n",
    "import keyword\n",
    "print(keyword.kwlist)"
   ]
  },
  {
   "cell_type": "code",
   "execution_count": 10,
   "id": "fe689aa3",
   "metadata": {},
   "outputs": [
    {
     "name": "stdout",
     "output_type": "stream",
     "text": [
      "95\n"
     ]
    }
   ],
   "source": [
    "# random\n",
    "import random\n",
    "print(random.randint(1,100))"
   ]
  },
  {
   "cell_type": "code",
   "execution_count": 11,
   "id": "30474dae",
   "metadata": {},
   "outputs": [
    {
     "name": "stdout",
     "output_type": "stream",
     "text": [
      "2025-09-29 17:04:31.894575\n"
     ]
    }
   ],
   "source": [
    "# datetime\n",
    "import datetime\n",
    "print(datetime.datetime.now())"
   ]
  },
  {
   "cell_type": "markdown",
   "id": "a20e9f9e",
   "metadata": {},
   "source": [
    "# Loops in Python\n",
    "\n",
    "- While Loop\n",
    "- For Loop\n",
    "- Nested Loop"
   ]
  },
  {
   "cell_type": "code",
   "execution_count": 12,
   "id": "76007705",
   "metadata": {},
   "outputs": [
    {
     "name": "stdout",
     "output_type": "stream",
     "text": [
      "1\n",
      "2\n",
      "3\n",
      "4\n",
      "5\n",
      "6\n",
      "7\n",
      "8\n",
      "9\n",
      "10\n"
     ]
    }
   ],
   "source": [
    "## While loop\n",
    "i = 1\n",
    "\n",
    "while i<=10:\n",
    "    print(i)\n",
    "    i+=1"
   ]
  },
  {
   "cell_type": "code",
   "execution_count": 14,
   "id": "c3f0c9b8",
   "metadata": {},
   "outputs": [
    {
     "name": "stdout",
     "output_type": "stream",
     "text": [
      "10\n",
      "9\n",
      "8\n",
      "7\n",
      "6\n",
      "5\n",
      "4\n",
      "3\n",
      "2\n",
      "1\n"
     ]
    }
   ],
   "source": [
    "## for loop\n",
    "for i in range(10,0,-1):\n",
    "    print(i)"
   ]
  },
  {
   "cell_type": "code",
   "execution_count": 1,
   "id": "fa5dcd61",
   "metadata": {},
   "outputs": [
    {
     "name": "stdout",
     "output_type": "stream",
     "text": [
      "1: 1\n",
      "1: 2\n",
      "1: 3\n",
      "1: 4\n",
      "2: 1\n",
      "2: 2\n",
      "2: 3\n",
      "2: 4\n",
      "3: 1\n",
      "3: 2\n",
      "3: 3\n",
      "3: 4\n"
     ]
    }
   ],
   "source": [
    "## Nested Loop\n",
    "\n",
    "for i in range(1,4):\n",
    "    for j in range(1,5):\n",
    "        print(f\"{i}: {j}\")"
   ]
  },
  {
   "cell_type": "markdown",
   "id": "6c743ade",
   "metadata": {},
   "source": [
    "## Loop Control Statement\n",
    "- Break\n",
    "- Continue\n",
    "- Pass"
   ]
  },
  {
   "cell_type": "code",
   "execution_count": 2,
   "id": "60e1e4fe",
   "metadata": {},
   "outputs": [
    {
     "name": "stdout",
     "output_type": "stream",
     "text": [
      "1\n",
      "2\n",
      "3\n",
      "4\n"
     ]
    }
   ],
   "source": [
    "## Break\n",
    "for i in range(1,10):\n",
    "    if i==5:\n",
    "        break\n",
    "    print(i)"
   ]
  },
  {
   "cell_type": "code",
   "execution_count": 3,
   "id": "fd50b6ad",
   "metadata": {},
   "outputs": [
    {
     "name": "stdout",
     "output_type": "stream",
     "text": [
      "1\n",
      "2\n",
      "3\n",
      "4\n",
      "6\n",
      "8\n",
      "9\n"
     ]
    }
   ],
   "source": [
    "## Continue\n",
    "for i in range(1,10):\n",
    "    if i==5 or i==7:\n",
    "        continue\n",
    "    print(i)"
   ]
  },
  {
   "cell_type": "code",
   "execution_count": 4,
   "id": "18cc4e0e",
   "metadata": {},
   "outputs": [],
   "source": [
    "## Pass\n",
    "for i in range(1,10):\n",
    "    pass"
   ]
  }
 ],
 "metadata": {
  "kernelspec": {
   "display_name": "env",
   "language": "python",
   "name": "python3"
  },
  "language_info": {
   "codemirror_mode": {
    "name": "ipython",
    "version": 3
   },
   "file_extension": ".py",
   "mimetype": "text/x-python",
   "name": "python",
   "nbconvert_exporter": "python",
   "pygments_lexer": "ipython3",
   "version": "3.13.7"
  }
 },
 "nbformat": 4,
 "nbformat_minor": 5
}
