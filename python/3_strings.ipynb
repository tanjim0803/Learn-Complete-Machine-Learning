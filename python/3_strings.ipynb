{
 "cells": [
  {
   "cell_type": "markdown",
   "id": "7f6edccc",
   "metadata": {},
   "source": [
    "## Strings\n",
    "\n",
    "Strings are sequence of Characters. In Python specifically, strings are a sequence of Unicode Characters.\n",
    "\n",
    "- Creating Strings\n",
    "- Accessing Strings\n",
    "- Adding Chars to Strings\n",
    "- Editing Strings\n",
    "- Deleting Strings\n",
    "- Operations on Strings\n",
    "- String Functions"
   ]
  },
  {
   "cell_type": "markdown",
   "id": "db9990fc",
   "metadata": {},
   "source": [
    "## Creating Strings"
   ]
  },
  {
   "cell_type": "code",
   "execution_count": 4,
   "id": "2b4f8585",
   "metadata": {},
   "outputs": [
    {
     "name": "stdout",
     "output_type": "stream",
     "text": [
      "Tanjim\n",
      "Ahmed\n",
      "\n",
      "Tanjim\n",
      "Ahmed\n",
      "\n",
      "\n",
      "Tanjim\n",
      "Ahmed\n",
      "\n"
     ]
    }
   ],
   "source": [
    "## Single quotation (single line)\n",
    "name = 'Tanjim'\n",
    "\n",
    "## Double quotation (single line)\n",
    "name2 = 'Ahmed'\n",
    "\n",
    "## Triple single quotation (multi line)\n",
    "name3 = '''\n",
    "Tanjim\n",
    "Ahmed\n",
    "'''\n",
    "\n",
    "## Triple double quotation (multi line)\n",
    "name4 = \"\"\"\n",
    "Tanjim\n",
    "Ahmed\n",
    "\"\"\"\n",
    "\n",
    "print(name)\n",
    "print(name2)\n",
    "print(name3)\n",
    "print(name4)"
   ]
  },
  {
   "cell_type": "markdown",
   "id": "1e79f07d",
   "metadata": {},
   "source": [
    "## Accessing Strings"
   ]
  },
  {
   "cell_type": "code",
   "execution_count": null,
   "id": "6000c802",
   "metadata": {},
   "outputs": [
    {
     "name": "stdout",
     "output_type": "stream",
     "text": [
      "j\n",
      " \n"
     ]
    }
   ],
   "source": [
    "## Positive String\n",
    "s = \"Tanjim Ahmed\"\n",
    "print(s[3])"
   ]
  },
  {
   "cell_type": "code",
   "execution_count": 9,
   "id": "056ad60d",
   "metadata": {},
   "outputs": [
    {
     "name": "stdout",
     "output_type": "stream",
     "text": [
      "m\n"
     ]
    }
   ],
   "source": [
    "## Negative String\n",
    "s = \"Tanjim Ahmed\"\n",
    "print(s[-3])"
   ]
  },
  {
   "cell_type": "code",
   "execution_count": 15,
   "id": "67bee83a",
   "metadata": {},
   "outputs": [
    {
     "name": "stdout",
     "output_type": "stream",
     "text": [
      "Tni h\n"
     ]
    }
   ],
   "source": [
    "## Slicing Positive\n",
    "s = \"Tanjim Ahmed\"\n",
    "print(s[0:10:2])"
   ]
  },
  {
   "cell_type": "code",
   "execution_count": 17,
   "id": "3532b5c4",
   "metadata": {},
   "outputs": [
    {
     "name": "stdout",
     "output_type": "stream",
     "text": [
      "demhA mijnaT\n"
     ]
    }
   ],
   "source": [
    "## Slicing Negative (always starting value should be greater than ending value)\n",
    "s = \"Tanjim Ahmed\"\n",
    "print(s[::-1])"
   ]
  },
  {
   "cell_type": "markdown",
   "id": "47204d94",
   "metadata": {},
   "source": [
    "## Editing and Deleting in Strings"
   ]
  },
  {
   "cell_type": "code",
   "execution_count": null,
   "id": "8dae3a78",
   "metadata": {},
   "outputs": [
    {
     "ename": "TypeError",
     "evalue": "'str' object does not support item assignment",
     "output_type": "error",
     "traceback": [
      "\u001b[31m---------------------------------------------------------------------------\u001b[39m",
      "\u001b[31mTypeError\u001b[39m                                 Traceback (most recent call last)",
      "\u001b[36mCell\u001b[39m\u001b[36m \u001b[39m\u001b[32mIn[18]\u001b[39m\u001b[32m, line 2\u001b[39m\n\u001b[32m      1\u001b[39m \u001b[38;5;66;03m## In python, string is an immutable datatype. It can't editable\u001b[39;00m\n\u001b[32m----> \u001b[39m\u001b[32m2\u001b[39m \u001b[43ms\u001b[49m\u001b[43m[\u001b[49m\u001b[32;43m0\u001b[39;49m\u001b[43m]\u001b[49m = \u001b[33m'\u001b[39m\u001b[33mt\u001b[39m\u001b[33m'\u001b[39m\n",
      "\u001b[31mTypeError\u001b[39m: 'str' object does not support item assignment"
     ]
    }
   ],
   "source": [
    "## Editing (In python, string is an immutable datatype. It can't editable)\n",
    "s[0] = 't'"
   ]
  },
  {
   "cell_type": "code",
   "execution_count": 19,
   "id": "174ae790",
   "metadata": {},
   "outputs": [],
   "source": [
    "## Deleting\n",
    "del s"
   ]
  },
  {
   "cell_type": "markdown",
   "id": "92447b75",
   "metadata": {},
   "source": [
    "## Operations on Strings\n",
    "\n",
    "- Arithmetic Operations\n",
    "- Relational Operations\n",
    "- Logical Operations\n",
    "- Loops on Strings\n",
    "- Membership Operations"
   ]
  },
  {
   "cell_type": "code",
   "execution_count": 23,
   "id": "60f44e31",
   "metadata": {},
   "outputs": [
    {
     "name": "stdout",
     "output_type": "stream",
     "text": [
      "Tanjim Ahmed\n"
     ]
    }
   ],
   "source": [
    "## concatenation\n",
    "print('Tanjim' + ' ' + 'Ahmed')"
   ]
  },
  {
   "cell_type": "code",
   "execution_count": 24,
   "id": "4f9f5e6f",
   "metadata": {},
   "outputs": [
    {
     "data": {
      "text/plain": [
       "True"
      ]
     },
     "execution_count": 24,
     "metadata": {},
     "output_type": "execute_result"
    }
   ],
   "source": [
    "# lexiographically\n",
    "'Tanjim' > 'Ahmed'"
   ]
  },
  {
   "cell_type": "code",
   "execution_count": 27,
   "id": "9433fafe",
   "metadata": {},
   "outputs": [
    {
     "name": "stdout",
     "output_type": "stream",
     "text": [
      "T a n j i m   A h m e d "
     ]
    }
   ],
   "source": [
    "## loo iteration\n",
    "name = \"Tanjim Ahmed\"\n",
    "for i in range(len(name)):\n",
    "    print(name[i], end=' ')"
   ]
  },
  {
   "cell_type": "code",
   "execution_count": 29,
   "id": "ed872593",
   "metadata": {},
   "outputs": [
    {
     "data": {
      "text/plain": [
       "True"
      ]
     },
     "execution_count": 29,
     "metadata": {},
     "output_type": "execute_result"
    }
   ],
   "source": [
    "## membership operators\n",
    "'t' in 'tanjim'"
   ]
  },
  {
   "cell_type": "markdown",
   "id": "10304453",
   "metadata": {},
   "source": [
    "## Common Functions\n",
    "- len\n",
    "- max\n",
    "- min\n",
    "- sorted"
   ]
  },
  {
   "cell_type": "code",
   "execution_count": 30,
   "id": "92a7ed16",
   "metadata": {},
   "outputs": [
    {
     "data": {
      "text/plain": [
       "12"
      ]
     },
     "execution_count": 30,
     "metadata": {},
     "output_type": "execute_result"
    }
   ],
   "source": [
    "## len\n",
    "len(name)"
   ]
  },
  {
   "cell_type": "code",
   "execution_count": 31,
   "id": "6a58da64",
   "metadata": {},
   "outputs": [
    {
     "data": {
      "text/plain": [
       "'n'"
      ]
     },
     "execution_count": 31,
     "metadata": {},
     "output_type": "execute_result"
    }
   ],
   "source": [
    "## max\n",
    "max(name)"
   ]
  },
  {
   "cell_type": "code",
   "execution_count": 32,
   "id": "104272c2",
   "metadata": {},
   "outputs": [
    {
     "data": {
      "text/plain": [
       "' '"
      ]
     },
     "execution_count": 32,
     "metadata": {},
     "output_type": "execute_result"
    }
   ],
   "source": [
    "## min\n",
    "min(name)"
   ]
  },
  {
   "cell_type": "code",
   "execution_count": 34,
   "id": "22205752",
   "metadata": {},
   "outputs": [
    {
     "data": {
      "text/plain": [
       "[' ', 'A', 'T', 'a', 'd', 'e', 'h', 'i', 'j', 'm', 'm', 'n']"
      ]
     },
     "execution_count": 34,
     "metadata": {},
     "output_type": "execute_result"
    }
   ],
   "source": [
    "## sorted (it will be give a list of characters)\n",
    "sorted(name)"
   ]
  },
  {
   "cell_type": "markdown",
   "id": "1c0a1536",
   "metadata": {},
   "source": [
    "## Functions that only for string\n",
    "- Capitalize\n",
    "- Title\n",
    "- Upper \n",
    "- Lower \n",
    "- Swapcase"
   ]
  },
  {
   "cell_type": "code",
   "execution_count": 35,
   "id": "0f77f281",
   "metadata": {},
   "outputs": [
    {
     "data": {
      "text/plain": [
       "'Tanjim ahmed'"
      ]
     },
     "execution_count": 35,
     "metadata": {},
     "output_type": "execute_result"
    }
   ],
   "source": [
    "## Capitalize\n",
    "name.capitalize()"
   ]
  },
  {
   "cell_type": "code",
   "execution_count": 36,
   "id": "c8e0c64b",
   "metadata": {},
   "outputs": [
    {
     "data": {
      "text/plain": [
       "'Tanjim Ahmed'"
      ]
     },
     "execution_count": 36,
     "metadata": {},
     "output_type": "execute_result"
    }
   ],
   "source": [
    "## Title\n",
    "name.title()"
   ]
  },
  {
   "cell_type": "code",
   "execution_count": 37,
   "id": "8f3fa115",
   "metadata": {},
   "outputs": [
    {
     "data": {
      "text/plain": [
       "'TANJIM AHMED'"
      ]
     },
     "execution_count": 37,
     "metadata": {},
     "output_type": "execute_result"
    }
   ],
   "source": [
    "## Upper\n",
    "name.upper()"
   ]
  },
  {
   "cell_type": "code",
   "execution_count": 38,
   "id": "54d36686",
   "metadata": {},
   "outputs": [
    {
     "data": {
      "text/plain": [
       "'tanjim ahmed'"
      ]
     },
     "execution_count": 38,
     "metadata": {},
     "output_type": "execute_result"
    }
   ],
   "source": [
    "## Lower\n",
    "name.lower()"
   ]
  },
  {
   "cell_type": "code",
   "execution_count": null,
   "id": "bbfeef58",
   "metadata": {},
   "outputs": [
    {
     "data": {
      "text/plain": [
       "'tANJIM aHMED'"
      ]
     },
     "execution_count": 39,
     "metadata": {},
     "output_type": "execute_result"
    }
   ],
   "source": [
    "## Swapcase (it will swap the capital and small letter)\n",
    "name.swapcase()"
   ]
  },
  {
   "cell_type": "markdown",
   "id": "fc39617e",
   "metadata": {},
   "source": [
    "## Count/Find/Index"
   ]
  },
  {
   "cell_type": "code",
   "execution_count": 40,
   "id": "895dfca8",
   "metadata": {},
   "outputs": [
    {
     "data": {
      "text/plain": [
       "2"
      ]
     },
     "execution_count": 40,
     "metadata": {},
     "output_type": "execute_result"
    }
   ],
   "source": [
    "## count\n",
    "name.count('m')"
   ]
  },
  {
   "cell_type": "code",
   "execution_count": 43,
   "id": "2c940326",
   "metadata": {},
   "outputs": [
    {
     "data": {
      "text/plain": [
       "8"
      ]
     },
     "execution_count": 43,
     "metadata": {},
     "output_type": "execute_result"
    }
   ],
   "source": [
    "## find\n",
    "name.find('hm')"
   ]
  },
  {
   "cell_type": "code",
   "execution_count": 45,
   "id": "bfa2fb39",
   "metadata": {},
   "outputs": [
    {
     "data": {
      "text/plain": [
       "5"
      ]
     },
     "execution_count": 45,
     "metadata": {},
     "output_type": "execute_result"
    }
   ],
   "source": [
    "## index (-1 not be considered)\n",
    "name.index('m')"
   ]
  },
  {
   "cell_type": "markdown",
   "id": "da027986",
   "metadata": {},
   "source": [
    "## endswith/startswith"
   ]
  },
  {
   "cell_type": "code",
   "execution_count": 46,
   "id": "6d5a69cc",
   "metadata": {},
   "outputs": [
    {
     "data": {
      "text/plain": [
       "False"
      ]
     },
     "execution_count": 46,
     "metadata": {},
     "output_type": "execute_result"
    }
   ],
   "source": [
    "## endswith\n",
    "name.endswith('m')"
   ]
  },
  {
   "cell_type": "code",
   "execution_count": 48,
   "id": "4c100c16",
   "metadata": {},
   "outputs": [
    {
     "data": {
      "text/plain": [
       "True"
      ]
     },
     "execution_count": 48,
     "metadata": {},
     "output_type": "execute_result"
    }
   ],
   "source": [
    "## startswith\n",
    "name.startswith('T')"
   ]
  },
  {
   "cell_type": "markdown",
   "id": "ef7fb2a5",
   "metadata": {},
   "source": [
    "## format"
   ]
  },
  {
   "cell_type": "code",
   "execution_count": null,
   "id": "89a61289",
   "metadata": {},
   "outputs": [
    {
     "data": {
      "text/plain": [
       "'My name is Tanjim Ahmed'"
      ]
     },
     "execution_count": 49,
     "metadata": {},
     "output_type": "execute_result"
    }
   ],
   "source": [
    "## format\n",
    "\"My name is {}\".format(name)"
   ]
  },
  {
   "cell_type": "markdown",
   "id": "d7880b3f",
   "metadata": {},
   "source": [
    "## isalnum/ isalpha/ isdigit/ isidentifier"
   ]
  },
  {
   "cell_type": "code",
   "execution_count": 50,
   "id": "74861174",
   "metadata": {},
   "outputs": [
    {
     "data": {
      "text/plain": [
       "False"
      ]
     },
     "execution_count": 50,
     "metadata": {},
     "output_type": "execute_result"
    }
   ],
   "source": [
    "## isalnum\n",
    "'tanjim1234%'.isalnum()"
   ]
  },
  {
   "cell_type": "code",
   "execution_count": 51,
   "id": "b7ec8463",
   "metadata": {},
   "outputs": [
    {
     "data": {
      "text/plain": [
       "True"
      ]
     },
     "execution_count": 51,
     "metadata": {},
     "output_type": "execute_result"
    }
   ],
   "source": [
    "## isalpha\n",
    "'tanjim'.isalpha()"
   ]
  },
  {
   "cell_type": "code",
   "execution_count": 52,
   "id": "15c3b843",
   "metadata": {},
   "outputs": [
    {
     "data": {
      "text/plain": [
       "False"
      ]
     },
     "execution_count": 52,
     "metadata": {},
     "output_type": "execute_result"
    }
   ],
   "source": [
    "## isdigit\n",
    "'123tanim'.isdigit()"
   ]
  },
  {
   "cell_type": "code",
   "execution_count": 55,
   "id": "d7c5a115",
   "metadata": {},
   "outputs": [
    {
     "data": {
      "text/plain": [
       "False"
      ]
     },
     "execution_count": 55,
     "metadata": {},
     "output_type": "execute_result"
    }
   ],
   "source": [
    "## isidentifier\n",
    "'first-name'.isidentifier()"
   ]
  },
  {
   "cell_type": "markdown",
   "id": "a0411298",
   "metadata": {},
   "source": [
    "## Split/Join"
   ]
  },
  {
   "cell_type": "code",
   "execution_count": 62,
   "id": "3cfefd52",
   "metadata": {},
   "outputs": [
    {
     "data": {
      "text/plain": [
       "['Tanjim', 'Ahmed']"
      ]
     },
     "execution_count": 62,
     "metadata": {},
     "output_type": "execute_result"
    }
   ],
   "source": [
    "## split\n",
    "name.split()"
   ]
  },
  {
   "cell_type": "code",
   "execution_count": 66,
   "id": "a44ae054",
   "metadata": {},
   "outputs": [
    {
     "data": {
      "text/plain": [
       "'Tanjim Ahmed'"
      ]
     },
     "execution_count": 66,
     "metadata": {},
     "output_type": "execute_result"
    }
   ],
   "source": [
    "## join\n",
    "\" \".join(['Tanjim', 'Ahmed'])"
   ]
  },
  {
   "cell_type": "markdown",
   "id": "c0c0f4b7",
   "metadata": {},
   "source": [
    "## Replace"
   ]
  },
  {
   "cell_type": "code",
   "execution_count": null,
   "id": "e323a343",
   "metadata": {},
   "outputs": [
    {
     "data": {
      "text/plain": [
       "'Tanim Ahmed'"
      ]
     },
     "execution_count": 61,
     "metadata": {},
     "output_type": "execute_result"
    }
   ],
   "source": [
    "## replace\n",
    "name.replace('Tanjim', 'Tanim')"
   ]
  },
  {
   "cell_type": "markdown",
   "id": "1bbd65f1",
   "metadata": {},
   "source": [
    "## Strip"
   ]
  },
  {
   "cell_type": "code",
   "execution_count": 59,
   "id": "5d1ad1f9",
   "metadata": {},
   "outputs": [
    {
     "data": {
      "text/plain": [
       "'Tanjim'"
      ]
     },
     "execution_count": 59,
     "metadata": {},
     "output_type": "execute_result"
    }
   ],
   "source": [
    "## strip (it will remove extra white space at the end)\n",
    "'Tanjim      '.strip()"
   ]
  }
 ],
 "metadata": {
  "kernelspec": {
   "display_name": "env",
   "language": "python",
   "name": "python3"
  },
  "language_info": {
   "codemirror_mode": {
    "name": "ipython",
    "version": 3
   },
   "file_extension": ".py",
   "mimetype": "text/x-python",
   "name": "python",
   "nbconvert_exporter": "python",
   "pygments_lexer": "ipython3",
   "version": "3.13.7"
  }
 },
 "nbformat": 4,
 "nbformat_minor": 5
}
